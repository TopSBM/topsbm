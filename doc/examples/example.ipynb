{
 "cells": [
  {
   "cell_type": "markdown",
   "metadata": {},
   "source": [
    "# Example: Introduction to topsbm\n",
    "\n",
    "Topic modelling with hierarchical stochastic block models"
   ]
  },
  {
   "cell_type": "code",
   "execution_count": 1,
   "metadata": {
    "ExecuteTime": {
     "start_time": "2019-01-16T04:07:14.579Z"
    }
   },
   "outputs": [],
   "source": [
    "from sklearn.feature_extraction.text import CountVectorizer\n",
    "import pandas as pd\n",
    "from topsbm import TopSBM"
   ]
  },
  {
   "cell_type": "markdown",
   "metadata": {},
   "source": [
    "## Setup: Load a corpus\n",
    "\n",
    "1. We have a list of documents, each document contains a list of words.\n",
    "1. We have a list of document titles (optional)\n",
    "\n",
    "The example corpus consists of 63 articles from Wikipedia taken from 3 different categories (Experimental Physics, Chemical Physics, and Computational Biology).\n",
    "\n",
    "We use scikit-learn's [`CountVectorizer`](https://scikit-learn.org/stable/modules/generated/sklearn.feature_extraction.text.CountVectorizer.html) to turn this text into a feature matrix."
   ]
  },
  {
   "cell_type": "code",
   "execution_count": 2,
   "metadata": {
    "ExecuteTime": {
     "start_time": "2019-01-16T04:06:47.262Z"
    }
   },
   "outputs": [],
   "source": [
    "# Load texts and vectorize\n",
    "with open('corpus.txt', 'r') as f:\n",
    "    docs = f.readlines()\n",
    "\n",
    "vec = CountVectorizer(token_pattern=r'\\S+')\n",
    "X = vec.fit_transform(docs)\n",
    "\n",
    "# X is now a sparse matrix of (docs, words)\n",
    "\n",
    "# titles corresponding to docs\n",
    "with open('titles.txt', 'r') as f:\n",
    "    x = f.readlines()\n",
    "titles = [h.split()[0] for h in x]"
   ]
  },
  {
   "cell_type": "code",
   "execution_count": 3,
   "metadata": {
    "ExecuteTime": {
     "end_time": "2018-12-20T11:55:45.791938Z",
     "start_time": "2018-12-20T11:55:45.769609Z"
    }
   },
   "outputs": [
    {
     "name": "stdout",
     "output_type": "stream",
     "text": [
      "Nuclear_Overhauser_effect\n",
      " the nuclear overhauser effect noe is the transfer of nuclear spin polarization from one nuclear spi\n"
     ]
    }
   ],
   "source": [
    "# view the data for document 0\n",
    "print(titles[0])\n",
    "print(docs[0][:100])"
   ]
  },
  {
   "cell_type": "markdown",
   "metadata": {},
   "source": [
    "## Fit the model\n",
    "\n",
    "Calling `TopSBM.fit_transform` will:\n",
    "* construct the bipartite graph between documents and words (samples and features)\n",
    "* perform Hierarchical Stochastic Block Model inference over the graph\n",
    "* return an embedding of the samples in the block level with finest granularity"
   ]
  },
  {
   "cell_type": "code",
   "execution_count": null,
   "metadata": {
    "ExecuteTime": {
     "end_time": "2018-12-23T00:35:43.395785Z",
     "start_time": "2018-12-22T23:50:22.496049Z"
    }
   },
   "outputs": [],
   "source": [
    "model = TopSBM(random_state=8)\n",
    "Xt = model.fit_transform(X)"
   ]
  },
  {
   "cell_type": "markdown",
   "metadata": {},
   "source": [
    "## Plotting the graph and block structure\n",
    "\n",
    "The following plot shows the (hierarchical) community structure in the word-document network as inferred by the stochastic block model:\n",
    "\n",
    "* document-nodes are on the left\n",
    "* word-nodes are on the right\n",
    "* different colors correspond to the different groups\n",
    "\n",
    "The result is a grouping of nodes into groups on multiple levels in the hierarchy:\n",
    "\n",
    "* on the uppermost level, each node belongs to the same group (square in the middle)\n",
    "* on the next-lower level, we split the network into two groups: the word-nodes and the document-nodes (blue sqaures to the left and right, respectively). This is a trivial structure due to the bipartite character of the network.\n",
    "* only next lower levels constitute a non-trivial structure: We now further divide nodes into smaller groups (document-nodes into document-groups on the left and word-nodes into word-groups on the right)\n",
    "\n",
    "In the code, the lowest level is known as level 0, with coarser levels 1, 2, ..."
   ]
  },
  {
   "cell_type": "code",
   "execution_count": null,
   "metadata": {
    "ExecuteTime": {
     "end_time": "2018-12-20T11:56:56.779616Z",
     "start_time": "2018-12-20T11:56:54.468935Z"
    }
   },
   "outputs": [],
   "source": [
    "model.plot_graph(n_edges=1000)"
   ]
  },
  {
   "cell_type": "markdown",
   "metadata": {},
   "source": [
    "## Topics\n",
    "\n",
    "For each word-group on a given level in the hierarchy, we retrieve the $n$ most common words in each group -- these are the topics!"
   ]
  },
  {
   "cell_type": "code",
   "execution_count": null,
   "metadata": {},
   "outputs": [],
   "source": [
    "topics = pd.DataFrame(model.groups_[1]['p_w_tw'],\n",
    "                      index=vec.get_feature_names())"
   ]
  },
  {
   "cell_type": "code",
   "execution_count": null,
   "metadata": {},
   "outputs": [],
   "source": [
    "for topic in topics.columns:\n",
    "    print(topics[topic].nlargest(10))\n",
    "    print()"
   ]
  },
  {
   "cell_type": "markdown",
   "metadata": {},
   "source": [
    "## Topic-distribution in each document\n",
    "\n",
    "Which level-1 topics contribute to each document?"
   ]
  },
  {
   "cell_type": "code",
   "execution_count": null,
   "metadata": {},
   "outputs": [],
   "source": [
    "pd.DataFrame(model.groups_[1]['p_tw_d'],\n",
    "             columns=titles)"
   ]
  },
  {
   "cell_type": "markdown",
   "metadata": {},
   "source": [
    "## Extra: Clustering of documents - for free.\n",
    "\n",
    "The stochastic block models clusters the documents into groups. We do not need to run an additional clustering to obtain this grouping.\n",
    "\n",
    "For a query article, we can return all articles from the same group"
   ]
  },
  {
   "cell_type": "code",
   "execution_count": null,
   "metadata": {},
   "outputs": [],
   "source": [
    "cluster_labels = pd.DataFrame(model.groups_[1]['p_td_d'],\n",
    "                              columns=titles).idxmax(axis=0)\n",
    "cluster_idx = cluster_labels['Rovibrational_coupling']\n",
    "cluster_labels[cluster_labels == cluster_idx]"
   ]
  }
 ],
 "metadata": {
  "kernelspec": {
   "display_name": "Python 3",
   "language": "python",
   "name": "python3"
  },
  "language_info": {
   "codemirror_mode": {
    "name": "ipython",
    "version": 3
   },
   "file_extension": ".py",
   "mimetype": "text/x-python",
   "name": "python",
   "nbconvert_exporter": "python",
   "pygments_lexer": "ipython3",
   "version": "3.6.7"
  }
 },
 "nbformat": 4,
 "nbformat_minor": 2
}
